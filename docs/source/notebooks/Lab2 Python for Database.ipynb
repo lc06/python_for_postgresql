{
 "cells": [
  {
   "cell_type": "markdown",
   "metadata": {},
   "source": [
    "# Lab 2 Python for Database\n"
   ]
  },
  {
   "cell_type": "markdown",
   "metadata": {},
   "source": [
    "## 1. Installing Python\n",
    "\n",
    "-   Download Python Individually\n",
    "    [Download Python | Python.org](https://www.python.org/downloads/)\n",
    "\n",
    "-   Using Anaconda for Python Programming\n",
    "    [Anaconda | The World's Most Popular Data Science Platform](https://www.anaconda.com/)\n",
    "\n",
    "-   Python Anaconda Tutorial\n",
    "    [Python Anaconda Tutorial | Getting Started With Anaconda | Edureka](https://www.edureka.co/blog/python-anaconda-tutorial/)\n"
   ]
  },
  {
   "cell_type": "markdown",
   "metadata": {},
   "source": [
    "## 2. Installing psycopg2 and pandas\n",
    "\n",
    "> If Anaconda is installed on you device, then you don't need to install the pandas module anymore.\n",
    "\n",
    "-   Installation Instruction\n",
    "    -   [psycopg2 · PyPI](https://pypi.org/project/psycopg2/)\n"
   ]
  },
  {
   "cell_type": "code",
   "execution_count": 1,
   "metadata": {},
   "outputs": [
    {
     "name": "stdout",
     "output_type": "stream",
     "text": [
      "Looking in indexes: https://mirrors.aliyun.com/pypi/simple/\n",
      "Requirement already satisfied: psycopg2 in c:\\users\\25466\\anaconda3\\lib\\site-packages (2.8.4)\n",
      "Note: you may need to restart the kernel to use updated packages.\n"
     ]
    },
    {
     "name": "stderr",
     "output_type": "stream",
     "text": [
      "WARNING: Ignoring invalid distribution -yrsistent (c:\\users\\25466\\anaconda3\\lib\\site-packages)\n",
      "WARNING: Ignoring invalid distribution -urses (c:\\users\\25466\\anaconda3\\lib\\site-packages)\n",
      "WARNING: Ignoring invalid distribution -yrsistent (c:\\users\\25466\\anaconda3\\lib\\site-packages)\n",
      "WARNING: Ignoring invalid distribution -urses (c:\\users\\25466\\anaconda3\\lib\\site-packages)\n",
      "WARNING: Ignoring invalid distribution -yrsistent (c:\\users\\25466\\anaconda3\\lib\\site-packages)\n",
      "WARNING: Ignoring invalid distribution -urses (c:\\users\\25466\\anaconda3\\lib\\site-packages)\n",
      "WARNING: Ignoring invalid distribution -yrsistent (c:\\users\\25466\\anaconda3\\lib\\site-packages)\n",
      "WARNING: Ignoring invalid distribution -urses (c:\\users\\25466\\anaconda3\\lib\\site-packages)\n",
      "WARNING: Ignoring invalid distribution -yrsistent (c:\\users\\25466\\anaconda3\\lib\\site-packages)\n",
      "WARNING: Ignoring invalid distribution -urses (c:\\users\\25466\\anaconda3\\lib\\site-packages)\n",
      "WARNING: Ignoring invalid distribution -yrsistent (c:\\users\\25466\\anaconda3\\lib\\site-packages)\n",
      "WARNING: Ignoring invalid distribution -urses (c:\\users\\25466\\anaconda3\\lib\\site-packages)\n"
     ]
    }
   ],
   "source": [
    "%pip install psycopg2"
   ]
  },
  {
   "cell_type": "markdown",
   "metadata": {},
   "source": [
    "-   -   [pandas - Python Data Analysis Library (pydata.org)](https://pandas.pydata.org/getting_started.html)\n"
   ]
  },
  {
   "cell_type": "code",
   "execution_count": null,
   "metadata": {},
   "outputs": [],
   "source": [
    "# conda\n",
    "%conda install pandas"
   ]
  },
  {
   "cell_type": "code",
   "execution_count": null,
   "metadata": {},
   "outputs": [],
   "source": [
    "# or PyPI\n",
    "%pip install pandas"
   ]
  },
  {
   "cell_type": "markdown",
   "metadata": {},
   "source": [
    "## 3. Connecting to the PostgreSQL database using the psycopg2\n"
   ]
  },
  {
   "cell_type": "code",
   "execution_count": 6,
   "metadata": {},
   "outputs": [],
   "source": [
    "import psycopg2\n",
    "\n",
    "conn = psycopg2.connect(host=\"localhost\",\n",
    "                        port='5434',\n",
    "                        database=\"ThirdDB\",\n",
    "                        user='postgres',\n",
    "                        password='123456')\n"
   ]
  },
  {
   "cell_type": "markdown",
   "metadata": {},
   "source": [
    "To connect to the `suppliers` database, you use the `connect()` function of the `psycopg2` module.\n",
    "\n",
    "For PostgreSQL database, the following connection parameters may be needed.\n",
    "\n",
    "-   `host`：database server address e.g., localhost or an IP address.\n",
    "-   `port`: the port number that defaults to 5432 if it is not provided. If you have different versions of PostgreSQL installed on your device, you may need to specify the port number of which version you want to connect to.\n",
    "-   `database`: the name of the database that you want to connect.\n",
    "-   `user`: the username used to authenticate.\n",
    "-   `password`: password used to authenticate.\n"
   ]
  },
  {
   "cell_type": "markdown",
   "metadata": {},
   "source": [
    "## 4. Querying data from the PostgreSQL tables and dumping the results to pandas DataFrame.\n"
   ]
  },
  {
   "cell_type": "code",
   "execution_count": 26,
   "metadata": {},
   "outputs": [
    {
     "name": "stdout",
     "output_type": "stream",
     "text": [
      "The number of parts:  249\n",
      "('79352', 'Rumat', 'Finance', Decimal('100'))\n"
     ]
    }
   ],
   "source": [
    "cur = conn.cursor()\n",
    "\n",
    "# cur.execute(\"select * from student where name like %s\", ('%m%',))\n",
    "cur.execute(\"select * from student where name like '%m%'\")\n",
    "\n",
    "print(\"The number of parts: \", cur.rowcount)\n",
    "\n",
    "row = cur.fetchone()\n",
    "print(row)\n",
    "\n",
    "# cur.close()\n",
    "# conn.close()"
   ]
  },
  {
   "cell_type": "markdown",
   "metadata": {},
   "source": [
    "To query data from one or more PostgreSQL tables, create a new cursor by calling the `cursor()` method of the `connection` object firstly. \n",
    "\n",
    "The `cursor` object is used to execute the sql statements. Define the sql statements just like querying data in pgAdmin, and then calling the `execute()` method of the `cursor` object with the sql statements.\n",
    "\n",
    "After that, process the result set returned by the stored procedure using the `fetchone()`, `fetchall()`, or `fetchmany()` method."
   ]
  },
  {
   "cell_type": "code",
   "execution_count": 27,
   "metadata": {},
   "outputs": [
    {
     "name": "stdout",
     "output_type": "stream",
     "text": [
      "1\n",
      "[('35175', 'Quimby', 'History', Decimal('4'))]\n"
     ]
    }
   ],
   "source": [
    "rows = cur.fetchmany(size=5)\n",
    "print(len(rows))\n",
    "print(rows)"
   ]
  },
  {
   "cell_type": "code",
   "execution_count": 28,
   "metadata": {},
   "outputs": [
    {
     "name": "stdout",
     "output_type": "stream",
     "text": [
      "247\n",
      "[('94998', 'Krishnakumar', 'Physics', Decimal('81')), ('1968', 'Sahm', 'Finance', Decimal('4')), ('90567', 'Tomason', 'Pol. Sci.', Decimal('118')), ('74639', 'Cerime', 'Accounting', Decimal('35')), ('792', 'Hashimoto', 'Athletics', Decimal('102')), ('17769', 'Pearlman', 'Biology', Decimal('45')), ('58307', 'Tiamp', 'Pol. Sci.', Decimal('63')), ('60040', 'Samel', 'Math', Decimal('100')), ('76953', 'Lemoine', 'Athletics', Decimal('60')), ('82918', 'Yemini', 'Statistics', Decimal('43')), ('3335', 'Otterm', 'Finance', Decimal('73')), ('88085', 'Bouamama', 'Comp. Sci.', Decimal('8')), ('14554', 'Ramadan', 'Psychology', Decimal('96')), ('36926', 'Kamae', 'Civil Eng.', Decimal('87')), ('37430', 'Norman', 'Languages', Decimal('35')), ('43123', 'Shim', 'Geology', Decimal('69')), ('86802', 'Hameed', 'Mech. Eng.', Decimal('47')), ('90663', 'Sram', 'Comp. Sci.', Decimal('119')), ('96003', 'Nakajima', 'Astronomy', Decimal('95')), ('64914', 'Lembr', 'Finance', Decimal('17')), ('75046', 'Hamagi', 'Marketing', Decimal('101')), ('44881', 'Harshman', 'Cybernetics', Decimal('59')), ('39046', 'Narasimhamu', 'Math', Decimal('121')), ('7602', 'Ingram', 'Geology', Decimal('71')), ('58465', 'Romeo', 'Elec. Eng.', Decimal('76')), ('49391', 'Rammer', 'Marketing', Decimal('15')), ('41751', 'Kaufman', 'Pol. Sci.', Decimal('13')), ('29239', 'Simmel', 'Astronomy', Decimal('107')), ('62549', 'Komatsu', 'Comp. Sci.', Decimal('74')), ('32245', 'Saariluoma', 'Statistics', Decimal('12')), ('26080', 'Simmel', 'Biology', Decimal('80')), ('95205', 'Hammond', 'Athletics', Decimal('115')), ('67725', 'Yamamoto', 'Pol. Sci.', Decimal('35')), ('5393', 'Clemens', 'Mech. Eng.', Decimal('4')), ('34422', 'Nakajima', 'Mech. Eng.', Decimal('86')), ('68070', 'Cameron', 'Pol. Sci.', Decimal('85')), ('80254', 'Mittelm', 'Languages', Decimal('122')), ('95574', 'Pampal', 'Comp. Sci.', Decimal('111')), ('83039', 'Harmon', 'Psychology', Decimal('124')), ('13826', 'Sommerfeldt', 'Pol. Sci.', Decimal('80')), ('45300', 'Kambayashi', 'Geology', Decimal('67')), ('22170', 'Sugavanam', 'Physics', Decimal('41')), ('48678', 'Tuomisto', 'Athletics', Decimal('121')), ('85451', 'Chapman', 'Languages', Decimal('70')), ('33645', 'Kawakami', 'Comp. Sci.', Decimal('129')), ('78792', 'Ram', 'Mech. Eng.', Decimal('102')), ('59397', 'Williams', 'Statistics', Decimal('126')), ('80610', 'Nakamura', 'Physics', Decimal('79')), ('12979', 'Hammond', 'Elec. Eng.', Decimal('5')), ('79170', 'Lingamp', 'Cybernetics', Decimal('28')), ('64593', 'Kamez', 'Mech. Eng.', Decimal('8')), ('82591', 'Pomy', 'Mech. Eng.', Decimal('92')), ('72622', 'Kashima', 'Cybernetics', Decimal('54')), ('13408', 'Bromley', 'Elec. Eng.', Decimal('81')), ('87280', 'Kim', 'Pol. Sci.', Decimal('67')), ('56080', 'Zamani', 'Geology', Decimal('127')), ('11453', 'Yamashita', 'Astronomy', Decimal('109')), ('32886', 'Damas', 'Psychology', Decimal('58')), ('40080', 'Llam', 'Civil Eng.', Decimal('6')), ('40677', 'Ponnambalam', 'Civil Eng.', Decimal('127')), ('83728', 'Kaminsky', 'Biology', Decimal('38')), ('24796', 'Thimm', 'Pol. Sci.', Decimal('18')), ('4449', 'Gilliam', 'Biology', Decimal('99')), ('93814', 'Smoro', 'Marketing', Decimal('19')), ('80912', 'Homyk', 'Biology', Decimal('16')), ('58300', 'Lum', 'Mech. Eng.', Decimal('8')), ('39881', 'Herman', 'Athletics', Decimal('85')), ('68280', 'Shuming', 'Languages', Decimal('123')), ('99949', 'Samo', 'Astronomy', Decimal('125')), ('71287', 'Damas', 'Marketing', Decimal('59')), ('25362', 'Simmel', 'Psychology', Decimal('117')), ('17086', 'Hazemi', 'Math', Decimal('90')), ('6304', 'Tamura', 'Cybernetics', Decimal('122')), ('6195', 'Hartmann', 'Finance', Decimal('20')), ('75928', 'Yoshimoto', 'Cybernetics', Decimal('52')), ('94522', 'Pampal', 'Civil Eng.', Decimal('41')), ('66469', 'Komori', 'History', Decimal('105')), ('82126', 'Koizumi', 'Math', Decimal('103')), ('55915', 'Mohamed', 'Civil Eng.', Decimal('78')), ('82687', 'Cameron', 'Athletics', Decimal('77')), ('93631', 'Sendlm', 'History', Decimal('71')), ('30188', 'Ahmad', 'Marketing', Decimal('126')), ('41894', 'Ortmann', 'Civil Eng.', Decimal('89')), ('69679', 'Ramírez', 'Accounting', Decimal('7')), ('68779', 'Harmon', 'Athletics', Decimal('47')), ('30397', 'Dism', 'Civil Eng.', Decimal('116')), ('5250', 'Åström', 'Finance', Decimal('49')), ('93508', 'Graham', 'Physics', Decimal('14')), ('84704', 'Rammer', 'Physics', Decimal('55')), ('61414', 'Ohyama', 'Elec. Eng.', Decimal('90')), ('17944', 'Hamarn', 'Mech. Eng.', Decimal('5')), ('85614', 'Champes', 'English', Decimal('87')), ('60984', 'Emms', 'Finance', Decimal('48')), ('544', 'Uchiyama', 'Biology', Decimal('81')), ('55009', 'Pohlem', 'Pol. Sci.', Decimal('18')), ('68453', 'Kjellmer', 'Elec. Eng.', Decimal('102')), ('74460', 'McWilliams', 'Statistics', Decimal('120')), ('39552', 'Tsukamoto', 'Physics', Decimal('72')), ('37734', 'Kamata', 'Civil Eng.', Decimal('68')), ('20378', 'Lomi', 'Languages', Decimal('3')), ('53496', 'Cashman', 'Marketing', Decimal('27')), ('847', 'Yamaguchi', 'Elec. Eng.', Decimal('105')), ('65190', 'Dumas', 'Accounting', Decimal('77')), ('31761', 'Jame', 'Pol. Sci.', Decimal('57')), ('77218', 'Lohman', 'Finance', Decimal('51')), ('96067', 'Sugavanam', 'Civil Eng.', Decimal('113')), ('32345', 'Chormo', 'Biology', Decimal('38')), ('16405', 'Rahman', 'Languages', Decimal('5')), ('51955', 'Tompa', 'Finance', Decimal('106')), ('32376', 'Nakajima', 'Astronomy', Decimal('8')), ('80799', 'Almeida', 'Finance', Decimal('106')), ('58701', 'Hampp', 'Geology', Decimal('44')), ('96968', 'Mohamed', 'Mech. Eng.', Decimal('118')), ('8192', 'Verma', 'Civil Eng.', Decimal('123')), ('22532', 'Silverman', 'History', Decimal('120')), ('90609', 'Mohamed', 'Finance', Decimal('95')), ('282', 'Rougemont', 'Languages', Decimal('34')), ('28994', 'Williamson', 'Statistics', Decimal('104')), ('18775', 'Pampal', 'Comp. Sci.', Decimal('89')), ('78143', 'Erdem', 'Astronomy', Decimal('12')), ('23224', 'Kempn', 'Psychology', Decimal('81')), ('14869', 'Palmer', 'Astronomy', Decimal('106')), ('23506', 'Åström', 'Pol. Sci.', Decimal('109')), ('40371', 'Trimble', 'Physics', Decimal('109')), ('62705', 'Hoffman', 'Marketing', Decimal('86')), ('68248', 'Tillmann', 'Athletics', Decimal('83')), ('41406', 'Dahmann', 'Biology', Decimal('24')), ('29192', 'Gomez', 'Geology', Decimal('81')), ('90353', 'Bruderm', 'Astronomy', Decimal('46')), ('12971', 'Bumbau', 'Elec. Eng.', Decimal('47')), ('44258', 'Steinmetz', 'Accounting', Decimal('28')), ('81896', 'Feldman', 'Finance', Decimal('46')), ('34126', 'Schreitm', 'Accounting', Decimal('14')), ('94142', 'Simon', 'Languages', Decimal('45')), ('46694', 'Masamura', 'Math', Decimal('118')), ('978', 'Salzman', 'Comp. Sci.', Decimal('127')), ('62728', 'Camme', 'Biology', Decimal('107')), ('52929', 'Hashim', 'Math', Decimal('118')), ('78858', 'Abdul-Rahman', 'Psychology', Decimal('49')), ('80990', 'Strzem', 'Biology', Decimal('117')), ('35523', 'Yamamoto', 'Accounting', Decimal('15')), ('59117', 'Belmes', 'Astronomy', Decimal('109')), ('85211', 'Sumi', 'Athletics', Decimal('109')), ('3005', 'Ibrahim', 'Pol. Sci.', Decimal('73')), ('29863', 'Harmon', 'Athletics', Decimal('112')), ('11202', 'Heckman', 'Math', Decimal('120')), ('99647', 'Bellman', 'English', Decimal('106')), ('43981', 'Quimby', 'Pol. Sci.', Decimal('87')), ('92849', 'Flossmann', 'Astronomy', Decimal('54')), ('9495', 'Crimm', 'Comp. Sci.', Decimal('68')), ('66484', 'Amberg', 'Mech. Eng.', Decimal('75')), ('15083', 'Formisano', 'Physics', Decimal('50')), ('88577', 'Smoro', 'Astronomy', Decimal('91')), ('74464', 'Sulimova', 'Athletics', Decimal('76')), ('58326', 'Afim', 'Accounting', Decimal('100')), ('52876', 'Dahmann', 'Languages', Decimal('50')), ('58355', 'Honeyman', 'Athletics', Decimal('42')), ('13511', 'Adam', 'Cybernetics', Decimal('15')), ('69521', 'Greenbaum', 'Accounting', Decimal('124')), ('72669', 'Schmitz', 'Elec. Eng.', Decimal('126')), ('8517', 'Tomkins', 'Pol. Sci.', Decimal('100')), ('70807', 'Kreitman', 'Math', Decimal('91')), ('46035', 'Kamez', 'Biology', Decimal('42')), ('12173', 'Thimm', 'English', Decimal('60')), ('90234', 'Sram', 'Biology', Decimal('31')), ('76169', 'Williamson', 'Astronomy', Decimal('123')), ('61854', 'Roytman', 'Psychology', Decimal('128')), ('19766', 'Simon', 'Biology', Decimal('29')), ('43616', 'Tam', 'Athletics', Decimal('15')), ('57026', 'Rotom', 'Geology', Decimal('44')), ('18740', 'Williamson', 'Athletics', Decimal('16')), ('69628', 'Bouamama', 'Psychology', Decimal('124')), ('46260', 'Bloom', 'History', Decimal('55')), ('37653', 'Campbell', 'Marketing', Decimal('64')), ('47379', 'Wakamiya', 'Comp. Sci.', Decimal('113')), ('56003', 'Someren', 'Geology', Decimal('39')), ('86707', 'Houtsm', 'Marketing', Decimal('53')), ('66259', 'Schulman', 'Biology', Decimal('67')), ('31101', 'Lhomme', 'Astronomy', Decimal('110')), ('7854', 'Someren', 'Pol. Sci.', Decimal('113')), ('1726', 'Matsunami', 'Biology', Decimal('94')), ('58935', 'Kimu', 'Pol. Sci.', Decimal('31')), ('42956', 'Ram', 'Physics', Decimal('60')), ('78481', 'Clemme', 'History', Decimal('23')), ('8860', 'Aminian', 'Finance', Decimal('13')), ('75534', 'Simmel', 'English', Decimal('93')), ('15283', 'Williams', 'Astronomy', Decimal('0')), ('48660', 'Emam', 'Psychology', Decimal('77')), ('18752', 'Schulman', 'Civil Eng.', Decimal('102')), ('32119', 'Nagashima', 'Elec. Eng.', Decimal('12')), ('45436', 'Ahmadian', 'Psychology', Decimal('101')), ('36791', 'Bomme', 'Elec. Eng.', Decimal('84')), ('75116', 'Samar', 'Mech. Eng.', Decimal('127')), ('45817', 'Herrmann', 'Psychology', Decimal('78')), ('69230', 'Masum', 'Athletics', Decimal('119')), ('33401', 'Campbell', 'Elec. Eng.', Decimal('22')), ('96911', 'Jamro', 'English', Decimal('13')), ('33206', 'McCormack', 'Civil Eng.', Decimal('109')), ('68396', 'Klimasauskas', 'Biology', Decimal('72')), ('35905', 'Lima', 'Athletics', Decimal('19')), ('25077', 'Palomo', 'Cybernetics', Decimal('82')), ('760', 'Liedm', 'Geology', Decimal('100')), ('53424', 'Lemoine', 'Languages', Decimal('10')), ('74473', 'Ledermann', 'Statistics', Decimal('22')), ('45002', 'Abraham', 'Psychology', Decimal('109')), ('75510', 'Dumont', 'Physics', Decimal('114')), ('42560', 'Amr', 'Pol. Sci.', Decimal('80')), ('11419', 'Geronimo', 'Civil Eng.', Decimal('66')), ('463', 'Houtsm', 'Physics', Decimal('78')), ('56', 'Kameda', 'Cybernetics', Decimal('81')), ('20489', 'Shuming', 'History', Decimal('2')), ('78782', 'Sherman', 'Math', Decimal('104')), ('22912', 'Sendlm', 'Geology', Decimal('63')), ('16347', 'Morimoto', 'Mech. Eng.', Decimal('2')), ('667', 'Goldman', 'History', Decimal('19')), ('68150', 'Kim', 'Math', Decimal('3')), ('71628', 'Amann', 'Psychology', Decimal('60')), ('76759', 'Masum', 'Mech. Eng.', Decimal('83')), ('65703', 'Goldman', 'Comp. Sci.', Decimal('37')), ('39254', 'Elme', 'Statistics', Decimal('103')), ('94726', 'Ailamaki', 'Accounting', Decimal('47')), ('89414', 'Feldman', 'Marketing', Decimal('34')), ('96324', 'Sudirm', 'Accounting', Decimal('84')), ('97590', 'Rammer', 'Comp. Sci.', Decimal('17')), ('15613', 'Umehara', 'Marketing', Decimal('41')), ('62520', 'Im', 'Astronomy', Decimal('105')), ('54153', 'Kammerer', 'Mech. Eng.', Decimal('25')), ('83003', 'Nam', 'Psychology', Decimal('30')), ('40738', 'Dima', 'Finance', Decimal('88')), ('25780', 'Ashmi', 'Accounting', Decimal('95')), ('30110', 'Humphrey', 'Athletics', Decimal('2')), ('88302', 'Yarmush', 'Marketing', Decimal('64')), ('91616', 'Hoffman', 'Astronomy', Decimal('100')), ('42688', 'Palma', 'Biology', Decimal('54')), ('44206', 'Gilmour', 'Comp. Sci.', Decimal('75')), ('858', 'Kashima', 'Psychology', Decimal('1')), ('44816', 'Burman', 'History', Decimal('67')), ('19050', 'Erdem', 'Civil Eng.', Decimal('58')), ('23934', 'Koizumi', 'English', Decimal('59')), ('18554', 'Ramaswamy', 'Psychology', Decimal('21')), ('54610', 'Tam', 'Languages', Decimal('5')), ('72358', 'Tomason', 'Math', Decimal('92')), ('80047', 'Clemme', 'Astronomy', Decimal('24')), ('88993', 'Palaniswami', 'Math', Decimal('51')), ('99760', 'Sakamoto', 'Athletics', Decimal('75')), ('64222', 'Namer', 'Pol. Sci.', Decimal('23')), ('91799', 'Steinmetz', 'Civil Eng.', Decimal('96'))]\n"
     ]
    }
   ],
   "source": [
    "rows_all = cur.fetchall()\n",
    "print(len(rows_all))\n",
    "print(rows_all)"
   ]
  },
  {
   "cell_type": "markdown",
   "metadata": {},
   "source": [
    "- The `fetchone()` fetches the next row in the result set. It returns a single tuple or `None` when no more row is available.\n",
    "- The `fetchmany(size=cursor.arraysize)` fetches the next set of rows specified by the `size` parameter. If you omit this parameter, the `arraysize` will determine the number of rows to be fetched. The `fetchmany()` method returns a list of tuples or an empty list if no more rows available.\n",
    "- The `fetchall()` fetches all rows in the result set and returns a list of tuples. If there are no rows to fetch, the `fetchall()` method returns an empty list."
   ]
  },
  {
   "cell_type": "code",
   "execution_count": 29,
   "metadata": {},
   "outputs": [],
   "source": [
    "cur.close()\n",
    "conn.close()"
   ]
  },
  {
   "cell_type": "markdown",
   "metadata": {},
   "source": [
    "Finally, close the communication with the PostgreSQL by calling the `close()` method of the `cursor` and `connection` objects"
   ]
  },
  {
   "cell_type": "code",
   "execution_count": null,
   "metadata": {},
   "outputs": [],
   "source": []
  }
 ],
 "metadata": {
  "kernelspec": {
   "display_name": "Python 3.8.12 ('base')",
   "language": "python",
   "name": "python3"
  },
  "language_info": {
   "codemirror_mode": {
    "name": "ipython",
    "version": 3
   },
   "file_extension": ".py",
   "mimetype": "text/x-python",
   "name": "python",
   "nbconvert_exporter": "python",
   "pygments_lexer": "ipython3",
   "version": "3.8.13"
  },
  "orig_nbformat": 4,
  "vscode": {
   "interpreter": {
    "hash": "188332808980cd7451d89856c43a5d1c412414bbfea8a97797f80ec22bc02468"
   }
  }
 },
 "nbformat": 4,
 "nbformat_minor": 2
}
